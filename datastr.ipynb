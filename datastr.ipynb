{
 "cells": [
  {
   "cell_type": "code",
   "execution_count": 1,
   "metadata": {},
   "outputs": [
    {
     "name": "stdout",
     "output_type": "stream",
     "text": [
      "1_2_3_4_5_6_7_8_9_"
     ]
    }
   ],
   "source": [
    "for x in range(1,10):\n",
    "    print(x, end=\"_\")"
   ]
  },
  {
   "cell_type": "code",
   "execution_count": 4,
   "metadata": {},
   "outputs": [
    {
     "name": "stdout",
     "output_type": "stream",
     "text": [
      "1.2.3.4.5.6.7.8.9.\n",
      "1.2.3.4.5.6.7.8.9.\n",
      "1.2.3.4.5.6.7.8.9.\n"
     ]
    }
   ],
   "source": [
    "for x in range(3):\n",
    "  for y in range(1,10):\n",
    "    print(y, end=\".\")\n",
    "  print()\n",
    "  \n"
   ]
  },
  {
   "cell_type": "code",
   "execution_count": 7,
   "metadata": {},
   "outputs": [
    {
     "name": "stdout",
     "output_type": "stream",
     "text": [
      "%%%%%%%\n",
      "%%%%%%%\n",
      "%%%%%%%\n",
      "%%%%%%%\n",
      "%%%%%%%\n",
      "%%%%%%%\n"
     ]
    }
   ],
   "source": [
    "rows=int(input(\"Enter the number of rows:\"))\n",
    "columns=int(input(\"Enter the number of columns\"))\n",
    "symbol=input(\"Enter a symbol to use:\")\n",
    "\n",
    "for x in range(rows):\n",
    "  for y in range(columns):\n",
    "    print(symbol, end=\"\")\n",
    "  print()\n",
    "\n",
    "\n"
   ]
  }
 ],
 "metadata": {
  "kernelspec": {
   "display_name": "Python 3",
   "language": "python",
   "name": "python3"
  },
  "language_info": {
   "codemirror_mode": {
    "name": "ipython",
    "version": 3
   },
   "file_extension": ".py",
   "mimetype": "text/x-python",
   "name": "python",
   "nbconvert_exporter": "python",
   "pygments_lexer": "ipython3",
   "version": "3.11.7"
  }
 },
 "nbformat": 4,
 "nbformat_minor": 2
}
