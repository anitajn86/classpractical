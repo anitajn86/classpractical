{
 "cells": [
  {
   "cell_type": "code",
   "execution_count": null,
   "metadata": {},
   "outputs": [],
   "source": [
    "#bubble sort implementation using arrays/lists\n",
    "def bubble_sort(arr):\n",
    "    n=len(arr)\n",
    "    for i in range(n):\n",
    "        swapped=False\n",
    "\n",
    "        for j in range(0,n-i-1):\n",
    "            print(n-i-1)\n",
    "\n",
    "            if arr[j]>arr[j+1]:\n",
    "                arr[j],arr[j+1]=arr[j+1],arr[j]\n",
    "                swapped=True\n",
    "\n",
    "        if not swapped:\n",
    "            break\n",
    "\n",
    "my_list=[34,65,56,76,87,12,13,12,83,56]\n",
    "my_list.sort()\n"
   ]
  },
  {
   "cell_type": "code",
   "execution_count": 1,
   "metadata": {},
   "outputs": [
    {
     "name": "stdout",
     "output_type": "stream",
     "text": [
      "How are you\n",
      "You are most welcome\n",
      "There is a lot to do today\n"
     ]
    }
   ],
   "source": [
    "#selection sort\n",
    "print(\"How are you\")\n",
    "print(\"You are most welcome\")\n",
    "print(\"There is a lot to do today\")\n",
    "print(\"Make sure to learn the sorting algorithms implementations tomorrow.\")\n",
    "\n"
   ]
  }
 ],
 "metadata": {
  "kernelspec": {
   "display_name": "Python 3",
   "language": "python",
   "name": "python3"
  },
  "language_info": {
   "codemirror_mode": {
    "name": "ipython",
    "version": 3
   },
   "file_extension": ".py",
   "mimetype": "text/x-python",
   "name": "python",
   "nbconvert_exporter": "python",
   "pygments_lexer": "ipython3",
   "version": "3.11.8"
  }
 },
 "nbformat": 4,
 "nbformat_minor": 2
}
