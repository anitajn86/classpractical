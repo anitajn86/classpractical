{
 "cells": [
  {
   "cell_type": "code",
   "execution_count": 1,
   "metadata": {},
   "outputs": [
    {
     "name": "stdout",
     "output_type": "stream",
     "text": [
      "Pop: C\n",
      "Peek: B\n",
      "isEmpty: False\n",
      "Size: 2\n"
     ]
    }
   ],
   "source": [
    "stack=[]\n",
    "#push\n",
    "stack.append('A')\n",
    "stack.append('B')\n",
    "stack.append('C')\n",
    "\n",
    "#POP\n",
    "element=stack.pop()\n",
    "print(\"Pop:\",element)\n",
    "\n",
    "#peek\n",
    "topElement=stack[-1]\n",
    "print(\"Peek:\",topElement)\n",
    "\n",
    "#isEmpty\n",
    "isEmpty=not bool(stack)\n",
    "print(\"isEmpty:\",isEmpty)\n",
    "\n",
    "#Size\n",
    "print(\"Size:\",len(stack))\n"
   ]
  },
  {
   "cell_type": "code",
   "execution_count": 1,
   "metadata": {},
   "outputs": [
    {
     "name": "stdout",
     "output_type": "stream",
     "text": [
      "Tomorrow is going to be a hectic day\n"
     ]
    }
   ],
   "source": [
    "print(\"Tomorrow is going to be a hectic day\")\n"
   ]
  }
 ],
 "metadata": {
  "kernelspec": {
   "display_name": "Python 3",
   "language": "python",
   "name": "python3"
  },
  "language_info": {
   "codemirror_mode": {
    "name": "ipython",
    "version": 3
   },
   "file_extension": ".py",
   "mimetype": "text/x-python",
   "name": "python",
   "nbconvert_exporter": "python",
   "pygments_lexer": "ipython3",
   "version": "3.11.8"
  }
 },
 "nbformat": 4,
 "nbformat_minor": 2
}
