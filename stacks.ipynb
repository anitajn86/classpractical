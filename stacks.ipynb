{
 "cells": [
  {
   "cell_type": "code",
   "execution_count": null,
   "metadata": {},
   "outputs": [],
   "source": [
    "stack=[]\n",
    "#push\n",
    "stack.append('A')\n",
    "stack.append('B')\n",
    "stack.append('C')\n",
    "\n",
    "#POP\n",
    "element=stack.pop()\n",
    "print(\"Pop:\",element)\n",
    "\n",
    "#peek\n",
    "topElement=stack[-1]\n",
    "print(\"Peek:\",topElement)\n",
    "\n",
    "#isEmpty\n",
    "isEmpty=not bool(stack)\n",
    "print(\"isEmpty:\",isEmpty)\n",
    "\n",
    "#Size\n",
    "print(\"Size:\",len(stack))\n"
   ]
  },
  {
   "cell_type": "code",
   "execution_count": 1,
   "metadata": {},
   "outputs": [
    {
     "name": "stdout",
     "output_type": "stream",
     "text": [
      "Tomorrow is going to be a hectic day\n",
      "It is still a hectic day\n",
      "Some more learning happening today\n",
      "This is too much work and why aren't my contributions to github being portrayed\n",
      "God please help us\n",
      "Time to learn very many things now\n",
      "Time to become a pro in data structures\n",
      "We pray for easy papers only.\n",
      "Tomorrow we have no papers......yayyyy\n",
      "Back to papers again...almost getting done.\n"
     ]
    }
   ],
   "source": [
    "print(\"Tomorrow is going to be a hectic day\")\n",
    "print(\"It is still a hectic day\")\n",
    "print(\"Some more learning happening today\")\n",
    "print(\"This is too much work and why aren't my contributions to github being portrayed\")\n",
    "print(\"God please help us\")\n",
    "print(\"Time to learn very many things now\")\n",
    "print(\"Time to become a pro in data structures\")\n",
    "print(\"We pray for easy papers only.\")\n",
<<<<<<< HEAD
    "print(\"Tomorrow we have no papers......yayyyy\")\n",
    "print(\"Back to papers again...almost getting done.\")"
=======
    "print(\"Tomorrow we have no papers......yayyyy\")"
    "print(\"But now,....eid is done and we are back to exams\")"
>>>>>>> 64922c4e4018b7eaebc9171d9d175d2e6711987c
   ]
  },
  {
   "cell_type": "code",
   "execution_count": 4,
   "metadata": {},
   "outputs": [
    {
     "name": "stdout",
     "output_type": "stream",
     "text": [
      "[30, 20, 10]\n"
     ]
    }
   ],
   "source": [
    "stack=[]\n",
    "stack.append(10)\n",
    "stack.append(20)\n",
    "stack.append(30)\n",
    "\n",
    "\n",
    "#stack.pop()\n",
    "stack.reverse()\n",
    "print(stack)"
   ]
  }
 ],
 "metadata": {
  "kernelspec": {
   "display_name": "Python 3",
   "language": "python",
   "name": "python3"
  },
  "language_info": {
   "codemirror_mode": {
    "name": "ipython",
    "version": 3
   },
   "file_extension": ".py",
   "mimetype": "text/x-python",
   "name": "python",
   "nbconvert_exporter": "python",
   "pygments_lexer": "ipython3",
   "version": "3.11.9"
  }
 },
 "nbformat": 4,
 "nbformat_minor": 2
}
