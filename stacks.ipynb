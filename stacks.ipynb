{
 "cells": [
  {
   "cell_type": "code",
   "execution_count": 1,
   "metadata": {},
   "outputs": [
    {
     "name": "stdout",
     "output_type": "stream",
     "text": [
      "Pop: C\n",
      "Peek: B\n",
      "isEmpty: False\n",
      "Size: 2\n",
      "Just commiting one line of code every day...\n"
     ]
    }
   ],
   "source": [
    "stack=[]\n",
    "#push\n",
    "stack.append('A')\n",
    "stack.append('B')\n",
    "stack.append('C')\n",
    "\n",
    "#POP\n",
    "element=stack.pop()\n",
    "print(\"Pop:\",element)\n",
    "\n",
    "#peek\n",
    "topElement=stack[-1]\n",
    "print(\"Peek:\",topElement)\n",
    "\n",
    "#isEmpty\n",
    "isEmpty=not bool(stack)\n",
    "print(\"isEmpty:\",isEmpty)\n",
    "\n",
    "#Size\n",
    "print(\"Size:\",len(stack))\n",
    "\n",
    "print(\"Just commiting one line of code every day...\")\n"
   ]
  },
  {
   "cell_type": "code",
   "execution_count": null,
   "metadata": {},
   "outputs": [],
   "source": [
    "stack=[]\n",
    "stack.append(10)\n",
    "stack.append(20)\n",
    "stack.append(30)\n",
    "\n",
    "\n",
    "#stack.pop()\n",
    "stack.reverse()\n",
    "print(stack)"
   ]
  }
 ],
 "metadata": {
  "kernelspec": {
   "display_name": "Python 3",
   "language": "python",
   "name": "python3"
  },
  "language_info": {
   "codemirror_mode": {
    "name": "ipython",
    "version": 3
   },
   "file_extension": ".py",
   "mimetype": "text/x-python",
   "name": "python",
   "nbconvert_exporter": "python",
   "pygments_lexer": "ipython3",
   "version": "3.11.9"
  }
 },
 "nbformat": 4,
 "nbformat_minor": 2
}
