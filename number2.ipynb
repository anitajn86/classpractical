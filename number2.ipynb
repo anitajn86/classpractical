{
 "cells": [
  {
   "cell_type": "code",
   "execution_count": 1,
   "metadata": {},
   "outputs": [
    {
     "name": "stdout",
     "output_type": "stream",
     "text": [
      "Alice has joined the queue.\n",
      "Bob has joined the queue.\n",
      "Charlie has joined the queue.\n",
      "David has joined the queue.\n",
      "Students getting served:\n",
      "Alice has been served.\n",
      "Bob has been served.\n",
      "Charlie has been served.\n",
      "Queue size: 1\n"
     ]
    }
   ],
   "source": [
    "class StudentQueue:\n",
    "    def __init__(self):\n",
    "        self.queue = []\n",
    "\n",
    "    def enqueue(self, student):\n",
    "        self.queue.append(student)\n",
    "        print(f\"{student} has joined the queue.\")\n",
    "\n",
    "    def dequeue(self):\n",
    "        if self.is_empty():\n",
    "            return \"Queue is empty\"\n",
    "        else:\n",
    "            served_student = self.queue.pop(0)\n",
    "            print(f\"{served_student} has been served.\")\n",
    "            return served_student\n",
    "\n",
    "    def is_empty(self):\n",
    "        return len(self.queue) == 0\n",
    "\n",
    "    def size(self):\n",
    "        return len(self.queue)\n",
    "\n",
    "# Example usage\n",
    "queue = StudentQueue()\n",
    "\n",
    "# Students joining the queue\n",
    "for student in [\"Alice\", \"Bob\", \"Charlie\", \"David\"]:\n",
    "    queue.enqueue(student)\n",
    "\n",
    "# Students getting served\n",
    "print(\"Students getting served:\")\n",
    "for _ in range(3):\n",
    "    queue.dequeue()\n",
    "\n",
    "# Check queue size\n",
    "print(\"Queue size:\", queue.size())"
   ]
  }
 ],
 "metadata": {
  "kernelspec": {
   "display_name": "Python 3",
   "language": "python",
   "name": "python3"
  },
  "language_info": {
   "codemirror_mode": {
    "name": "ipython",
    "version": 3
   },
   "file_extension": ".py",
   "mimetype": "text/x-python",
   "name": "python",
   "nbconvert_exporter": "python",
   "pygments_lexer": "ipython3",
   "version": "3.11.9"
  }
 },
 "nbformat": 4,
 "nbformat_minor": 2
}
