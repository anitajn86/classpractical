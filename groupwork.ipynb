{
 "cells": [
  {
   "cell_type": "code",
   "execution_count": 3,
   "metadata": {},
   "outputs": [
    {
     "name": "stdout",
     "output_type": "stream",
     "text": [
      "Current page: www.skype.com\n",
      "After going backward: www.microsoft.com\n",
      "After going forward: None\n"
     ]
    }
   ],
   "source": [
    "class Browserstack:\n",
    "    def __init__(self):\n",
    "        self.stack = []\n",
    "        self.current_page = None\n",
    "\n",
    "    def navigation(self, url):\n",
    "        if self.current_page:\n",
    "            self.stack.append(self.current_page)\n",
    "        self.current_page = url\n",
    "\n",
    "    def backward(self):\n",
    "        if self.stack:\n",
    "            self.current_page = self.stack.pop()\n",
    "\n",
    "    def forward(self):\n",
    "        if self.current_page:\n",
    "            # Simulate forward history (assuming we don't have actual forward history)\n",
    "            self.stack.append(self.current_page)\n",
    "            self.current_page = None\n",
    "current_page = [\"www.google.com\", \"www.github.com\", \"www.ucu.com\", \"www.microsoft.com\", \"www.skype.com\"]\n",
    "# Example usage:\n",
    "browser = Browserstack()\n",
    "browser.navigation(\"www.google.com\")\n",
    "browser.navigation(\"www.github.com\")\n",
    "browser.navigation(\"www.ucu.com\")\n",
    "browser.navigation(\"www.microsoft.com\")\n",
    "browser.navigation(\"www.skype.com\")\n",
    "\n",
    "print(\"Current page:\", browser.current_page)\n",
    "\n",
    "browser.backward()\n",
    "print(\"After going backward:\", browser.current_page)\n",
    "\n",
    "browser.forward()\n",
    "print(\"After going forward:\", browser.current_page)"
   ]
  }
 ],
 "metadata": {
  "kernelspec": {
   "display_name": "Python 3",
   "language": "python",
   "name": "python3"
  },
  "language_info": {
   "codemirror_mode": {
    "name": "ipython",
    "version": 3
   },
   "file_extension": ".py",
   "mimetype": "text/x-python",
   "name": "python",
   "nbconvert_exporter": "python",
   "pygments_lexer": "ipython3",
   "version": "3.11.8"
  }
 },
 "nbformat": 4,
 "nbformat_minor": 2
}
