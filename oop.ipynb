{
 "cells": [
  {
   "cell_type": "code",
   "execution_count": null,
   "metadata": {},
   "outputs": [],
   "source": [
    "#class is a collection of objects\n",
    "\n",
    "#init method used as a class constructor\n",
    "#variable outside init method is a global variable\n",
    "class student:\n",
    "    def __init__(self,age,grade,gender,name):\n",
    "        self.studentAge=age\n",
    "        self.studentgrade=grade\n",
    "        self.studentgender=gender\n",
    "        self.studentName=name\n",
    "    def getUniversity(self,UniversityName):\n",
    "        return f\"Student {self.studentName} is {self.studentAge} years, {self.studentgender} and studying at {UniversityName}\"\n",
    "    def calculateGrade(self):\n",
    "        print(\"Enter your grade\")\n",
    "        marks = int(input())\n",
    "        while (marks!=20):\n",
    "            newMark=int(input())\n",
    "            marks+=newMark\n",
    "            print(marks)\n",
    "        print(f\"student {self.studentName} has a total of {marks}\")\n",
    "Hellen=student(21,45,\"female\",\"Hellen\")\n",
    "#HellenBio= Hellen.getUniversity(\"UCU\")\n",
    "#print(HellenBio)\n",
    "\n",
    "Hellengrade=Hellen.calculateGrade()"
   ]
  },
  {
   "cell_type": "code",
   "execution_count": null,
   "metadata": {},
   "outputs": [],
   "source": [
    "class Animal:\n",
    "    def eat(self):\n",
    "        print(\"I can eat\")\n",
    "    def sleep(self):\n",
    "        print(\"I love to sleep\")\n",
    "#derived class\n",
    "#encapsulation; add an underscore self.__name "
   ]
  },
  {
   "cell_type": "code",
   "execution_count": 17,
   "metadata": {},
   "outputs": [
    {
     "ename": "TypeError",
     "evalue": "Car.drive() takes 1 positional argument but 2 were given",
     "output_type": "error",
     "traceback": [
      "\u001b[1;31m---------------------------------------------------------------------------\u001b[0m",
      "\u001b[1;31mTypeError\u001b[0m                                 Traceback (most recent call last)",
      "Cell \u001b[1;32mIn[17], line 16\u001b[0m\n\u001b[0;32m     13\u001b[0m         \u001b[38;5;28;01mreturn\u001b[39;00m \u001b[38;5;124mf\u001b[39m\u001b[38;5;124m\"\u001b[39m\u001b[38;5;124mThe \u001b[39m\u001b[38;5;132;01m{\u001b[39;00m\u001b[38;5;28mself\u001b[39m\u001b[38;5;241m.\u001b[39mmake\u001b[38;5;132;01m}\u001b[39;00m\u001b[38;5;124m is a \u001b[39m\u001b[38;5;132;01m{\u001b[39;00m\u001b[38;5;28mself\u001b[39m\u001b[38;5;241m.\u001b[39mmodel\u001b[38;5;132;01m}\u001b[39;00m\u001b[38;5;124m\"\u001b[39m\n\u001b[0;32m     15\u001b[0m car1\u001b[38;5;241m=\u001b[39mCar(\u001b[38;5;124m\"\u001b[39m\u001b[38;5;124mchevy\u001b[39m\u001b[38;5;124m\"\u001b[39m,\u001b[38;5;124m\"\u001b[39m\u001b[38;5;124mCorvette\u001b[39m\u001b[38;5;124m\"\u001b[39m,\u001b[38;5;241m2021\u001b[39m,\u001b[38;5;124m\"\u001b[39m\u001b[38;5;124mblue\u001b[39m\u001b[38;5;124m\"\u001b[39m)\n\u001b[1;32m---> 16\u001b[0m \u001b[43mcar1\u001b[49m\u001b[38;5;241;43m.\u001b[39;49m\u001b[43mstop\u001b[49m\u001b[43m(\u001b[49m\u001b[43m)\u001b[49m\n\u001b[0;32m     18\u001b[0m \u001b[38;5;66;03m#car1.drive()\u001b[39;00m\n\u001b[0;32m     19\u001b[0m \u001b[38;5;66;03m#print(car1.description())\u001b[39;00m\n",
      "Cell \u001b[1;32mIn[17], line 11\u001b[0m, in \u001b[0;36mCar.stop\u001b[1;34m(self)\u001b[0m\n\u001b[0;32m     10\u001b[0m \u001b[38;5;28;01mdef\u001b[39;00m \u001b[38;5;21mstop\u001b[39m(\u001b[38;5;28mself\u001b[39m):\n\u001b[1;32m---> 11\u001b[0m     \u001b[38;5;28;43mprint\u001b[39;49m\u001b[43m(\u001b[49m\u001b[38;5;124;43m\"\u001b[39;49m\u001b[38;5;124;43mThe car has stopped\u001b[39;49m\u001b[38;5;124;43m\"\u001b[39;49m\u001b[43m)\u001b[49m\n",
      "\u001b[1;31mTypeError\u001b[0m: Car.drive() takes 1 positional argument but 2 were given"
     ]
    }
   ],
   "source": [
    "class Car:\n",
    "    def __init__(self,make,model,year,color):\n",
    "        self.make = make\n",
    "        self.model = model\n",
    "        self.year = year\n",
    "        self.color = color\n",
    "\n",
    "    def drive(self):\n",
    "        print(\"The car is driving\")\n",
    "    def stop(self):\n",
    "        print(\"The car has stopped\")\n",
    "    def description(self):\n",
    "        return f\"The {self.make} is a {self.model}\"\n",
    "\n",
    "car1=Car(\"chevy\",\"Corvette\",2021,\"blue\")\n",
    "car1.stop()\n",
    "\n",
    "#car1.drive()\n",
    "#print(car1.description())"
   ]
  }
 ],
 "metadata": {
  "kernelspec": {
   "display_name": "Python 3",
   "language": "python",
   "name": "python3"
  },
  "language_info": {
   "codemirror_mode": {
    "name": "ipython",
    "version": 3
   },
   "file_extension": ".py",
   "mimetype": "text/x-python",
   "name": "python",
   "nbconvert_exporter": "python",
   "pygments_lexer": "ipython3",
   "version": "3.11.8"
  }
 },
 "nbformat": 4,
 "nbformat_minor": 2
}
