{
 "cells": [
  {
   "cell_type": "code",
   "execution_count": 2,
   "metadata": {},
   "outputs": [
    {
     "name": "stdout",
     "output_type": "stream",
     "text": [
      "Enter your grade\n",
      "student Hellen has a total of 20\n"
     ]
    }
   ],
   "source": [
    "#class is a collection of objects\n",
    "\n",
    "#init method used as a class constructor\n",
    "#variable outside init method is a global variable\n",
    "class student:\n",
    "    def __init__(self,age,grade,gender,name):\n",
    "        self.studentAge=age\n",
    "        self.studentgrade=grade\n",
    "        self.studentgender=gender\n",
    "        self.studentName=name\n",
    "    def getUniversity(self,UniversityName):\n",
    "        return f\"Student {self.studentName} is {self.studentAge} years, {self.studentgender} and studying at {UniversityName}\"\n",
    "    def calculateGrade(self):\n",
    "        print(\"Enter your grade\")\n",
    "        marks = int(input())\n",
    "        while (marks!=20):\n",
    "            newMark=int(input())\n",
    "            marks+=newMark\n",
    "            print(marks)\n",
    "        print(f\"student {self.studentName} has a total of {marks}\")\n",
    "Hellen=student(21,45,\"female\",\"Hellen\")\n",
    "#HellenBio= Hellen.getUniversity(\"UCU\")\n",
    "#print(HellenBio)\n",
    "\n",
    "Hellengrade=Hellen.calculateGrade()"
   ]
  },
  {
   "cell_type": "code",
   "execution_count": null,
   "metadata": {},
   "outputs": [],
   "source": [
    "class Animal:\n",
    "    def eat(self):\n",
    "        print(\"I can eat\")\n",
    "    def sleep(self):\n",
    "        print(\"I love to sleep\")\n",
    "#derived class\n",
    "#encapsulation; add an underscore self.__name "
   ]
  }
 ],
 "metadata": {
  "kernelspec": {
   "display_name": "Python 3",
   "language": "python",
   "name": "python3"
  },
  "language_info": {
   "codemirror_mode": {
    "name": "ipython",
    "version": 3
   },
   "file_extension": ".py",
   "mimetype": "text/x-python",
   "name": "python",
   "nbconvert_exporter": "python",
   "pygments_lexer": "ipython3",
   "version": "3.11.8"
  }
 },
 "nbformat": 4,
 "nbformat_minor": 2
}
