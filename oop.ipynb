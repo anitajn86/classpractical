{
 "cells": [
  {
   "cell_type": "code",
   "execution_count": 3,
   "metadata": {},
   "outputs": [
    {
     "name": "stdout",
     "output_type": "stream",
     "text": [
      "Enter your grade\n",
      "90\n",
      "110\n"
     ]
    },
    {
     "ename": "ValueError",
     "evalue": "invalid literal for int() with base 10: ''",
     "output_type": "error",
     "traceback": [
      "\u001b[1;31m---------------------------------------------------------------------------\u001b[0m",
      "\u001b[1;31mValueError\u001b[0m                                Traceback (most recent call last)",
      "Cell \u001b[1;32mIn[3], line 25\u001b[0m\n\u001b[0;32m     21\u001b[0m Hellen\u001b[38;5;241m=\u001b[39mstudent(\u001b[38;5;241m21\u001b[39m,\u001b[38;5;241m45\u001b[39m,\u001b[38;5;124m\"\u001b[39m\u001b[38;5;124mfemale\u001b[39m\u001b[38;5;124m\"\u001b[39m,\u001b[38;5;124m\"\u001b[39m\u001b[38;5;124mHellen\u001b[39m\u001b[38;5;124m\"\u001b[39m)\n\u001b[0;32m     22\u001b[0m \u001b[38;5;66;03m#HellenBio= Hellen.getUniversity(\"UCU\")\u001b[39;00m\n\u001b[0;32m     23\u001b[0m \u001b[38;5;66;03m#print(HellenBio)\u001b[39;00m\n\u001b[1;32m---> 25\u001b[0m Hellengrade\u001b[38;5;241m=\u001b[39m\u001b[43mHellen\u001b[49m\u001b[38;5;241;43m.\u001b[39;49m\u001b[43mcalculateGrade\u001b[49m\u001b[43m(\u001b[49m\u001b[43m)\u001b[49m\n",
      "Cell \u001b[1;32mIn[3], line 17\u001b[0m, in \u001b[0;36mstudent.calculateGrade\u001b[1;34m(self)\u001b[0m\n\u001b[0;32m     15\u001b[0m marks\u001b[38;5;241m=\u001b[39m\u001b[38;5;28mint\u001b[39m(\u001b[38;5;28minput\u001b[39m())\n\u001b[0;32m     16\u001b[0m \u001b[38;5;28;01mwhile\u001b[39;00m (marks\u001b[38;5;241m!=\u001b[39m\u001b[38;5;241m20\u001b[39m):\n\u001b[1;32m---> 17\u001b[0m     newMark\u001b[38;5;241m=\u001b[39m\u001b[38;5;28;43mint\u001b[39;49m\u001b[43m(\u001b[49m\u001b[38;5;28;43minput\u001b[39;49m\u001b[43m(\u001b[49m\u001b[43m)\u001b[49m\u001b[43m)\u001b[49m\n\u001b[0;32m     18\u001b[0m     marks\u001b[38;5;241m+\u001b[39m\u001b[38;5;241m=\u001b[39mnewMark\n\u001b[0;32m     19\u001b[0m     \u001b[38;5;28mprint\u001b[39m(marks)\n",
      "\u001b[1;31mValueError\u001b[0m: invalid literal for int() with base 10: ''"
     ]
    }
   ],
   "source": [
    "#class is a collection of objects\n",
    "\n",
    "#init method used as a class constructor\n",
    "#variable outside init method is a global variable\n",
    "class student:\n",
    "    def __init__(self,age,grade,gender,name):\n",
    "        self.studentAge=age\n",
    "        self.studentgrade=grade\n",
    "        self.studentgender=gender\n",
    "        self.studentName=name\n",
    "    def getUniversity(self,UniversityName):\n",
    "        return f\"Student {self.studentName} is {self.studentAge} years, {self.studentgender} and studying at {UniversityName}\"\n",
    "    def calculateGrade(self):\n",
    "        print(\"Enter your grade\")\n",
    "        marks=int(input())\n",
    "        while (marks!=20):\n",
    "            newMark=int(input())\n",
    "            marks+=newMark\n",
    "            print(marks)\n",
    "        print(f\"student {self.studentName} has a total of {marks}\")\n",
    "Hellen=student(21,45,\"female\",\"Hellen\")\n",
    "#HellenBio= Hellen.getUniversity(\"UCU\")\n",
    "#print(HellenBio)\n",
    "\n",
    "Hellengrade=Hellen.calculateGrade()"
   ]
  },
  {
   "cell_type": "code",
   "execution_count": null,
   "metadata": {},
   "outputs": [],
   "source": [
    "class Animal:\n",
    "    def eat(self):\n",
    "        print(\"I can eat\")\n",
    "    def sleep(self):\n",
    "        print(\"I love to sleep\")\n",
    "#derived class\n",
    "#encapsulation; add an underscore self.__name "
   ]
  }
 ],
 "metadata": {
  "kernelspec": {
   "display_name": "Python 3",
   "language": "python",
   "name": "python3"
  },
  "language_info": {
   "codemirror_mode": {
    "name": "ipython",
    "version": 3
   },
   "file_extension": ".py",
   "mimetype": "text/x-python",
   "name": "python",
   "nbconvert_exporter": "python",
   "pygments_lexer": "ipython3",
   "version": "3.11.8"
  }
 },
 "nbformat": 4,
 "nbformat_minor": 2
}
print("HELLO AGAIN WORLD")

