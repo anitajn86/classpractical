{
 "cells": [
  {
   "cell_type": "code",
   "execution_count": 1,
   "metadata": {},
   "outputs": [
    {
     "ename": "KeyboardInterrupt",
     "evalue": "",
     "output_type": "error",
     "traceback": [
      "\u001b[1;31m---------------------------------------------------------------------------\u001b[0m",
      "\u001b[1;31mKeyboardInterrupt\u001b[0m                         Traceback (most recent call last)",
      "Cell \u001b[1;32mIn[1], line 19\u001b[0m\n\u001b[0;32m     17\u001b[0m arr\u001b[38;5;241m=\u001b[39m[\u001b[38;5;241m1\u001b[39m,\u001b[38;5;241m3\u001b[39m,\u001b[38;5;241m4\u001b[39m,\u001b[38;5;241m5\u001b[39m,\u001b[38;5;241m6\u001b[39m,\u001b[38;5;241m7\u001b[39m,\u001b[38;5;241m8\u001b[39m,\u001b[38;5;241m9\u001b[39m,\u001b[38;5;241m10\u001b[39m,\u001b[38;5;241m14\u001b[39m,\u001b[38;5;241m15\u001b[39m,\u001b[38;5;241m20\u001b[39m,\u001b[38;5;241m19\u001b[39m,\u001b[38;5;241m18\u001b[39m]\n\u001b[0;32m     18\u001b[0m number\u001b[38;5;241m=\u001b[39m\u001b[38;5;241m15\u001b[39m\n\u001b[1;32m---> 19\u001b[0m index\u001b[38;5;241m=\u001b[39m\u001b[43mbinary_search\u001b[49m\u001b[43m(\u001b[49m\u001b[43marr\u001b[49m\u001b[43m,\u001b[49m\u001b[43mnumber\u001b[49m\u001b[43m)\u001b[49m\n\u001b[0;32m     20\u001b[0m \u001b[38;5;28;01mif\u001b[39;00m index \u001b[38;5;241m!=\u001b[39m \u001b[38;5;241m-\u001b[39m\u001b[38;5;241m1\u001b[39m:\n\u001b[0;32m     21\u001b[0m     \u001b[38;5;28mprint\u001b[39m(\u001b[38;5;124m\"\u001b[39m\u001b[38;5;124mnumber\u001b[39m\u001b[38;5;124m\"\u001b[39m,number, \u001b[38;5;124m\"\u001b[39m\u001b[38;5;124mfound at index\u001b[39m\u001b[38;5;124m\"\u001b[39m,index)\n",
      "Cell \u001b[1;32mIn[1], line 6\u001b[0m, in \u001b[0;36mbinary_search\u001b[1;34m(arr, number)\u001b[0m\n\u001b[0;32m      3\u001b[0m left\u001b[38;5;241m=\u001b[39m\u001b[38;5;241m0\u001b[39m\n\u001b[0;32m      4\u001b[0m right\u001b[38;5;241m=\u001b[39m\u001b[38;5;28mlen\u001b[39m(arr)\u001b[38;5;241m-\u001b[39m\u001b[38;5;241m1\u001b[39m\n\u001b[1;32m----> 6\u001b[0m \u001b[38;5;28;01mwhile\u001b[39;00m left\u001b[38;5;241m<\u001b[39m\u001b[38;5;241m=\u001b[39mright:\n\u001b[0;32m      7\u001b[0m     mid\u001b[38;5;241m=\u001b[39m(left\u001b[38;5;241m+\u001b[39mright)\u001b[38;5;241m/\u001b[39m\u001b[38;5;241m/\u001b[39m\u001b[38;5;241m2\u001b[39m\n\u001b[0;32m      8\u001b[0m     \u001b[38;5;28;01mif\u001b[39;00m arr[mid]\u001b[38;5;241m==\u001b[39mnumber:\n",
      "\u001b[1;31mKeyboardInterrupt\u001b[0m: "
     ]
    }
   ],
   "source": [
    "#binary search\n",
    "def binary_search(arr,number):\n",
    "    left=0\n",
    "    right=len(arr)-1\n",
    "\n",
    "    while left<=right:\n",
    "        mid=(left+right)//2\n",
    "        if arr[mid]==number:\n",
    "            return mid\n",
    "        elif arr[mid]<number:\n",
    "            left==mid+1\n",
    "        else:\n",
    "            right=mid-1\n",
    "\n",
    "    return-1\n",
    "\n",
    "arr=[1,3,4,5,6,7,8,9,10,14,15,20,19,18]\n",
    "number=15\n",
    "index=binary_search(arr,number)\n",
    "if index != -1:\n",
    "    print(\"number\",number, \"found at index\",index)\n",
    "else:\n",
    "    print(\"Number\",number, \"not found in the array\")"
   ]
  }
 ],
 "metadata": {
  "kernelspec": {
   "display_name": "Python 3",
   "language": "python",
   "name": "python3"
  },
  "language_info": {
   "codemirror_mode": {
    "name": "ipython",
    "version": 3
   },
   "file_extension": ".py",
   "mimetype": "text/x-python",
   "name": "python",
   "nbconvert_exporter": "python",
   "pygments_lexer": "ipython3",
   "version": "3.11.9"
  }
 },
 "nbformat": 4,
 "nbformat_minor": 2
}
