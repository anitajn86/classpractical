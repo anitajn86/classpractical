{
 "cells": [
  {
   "cell_type": "code",
   "execution_count": 1,
   "metadata": {},
   "outputs": [
    {
     "name": "stdout",
     "output_type": "stream",
     "text": [
      "\n",
      "inorder traversal: 42513\n",
      "preorder_traversal: 12453\n",
      "postorder_traversal: 45231"
     ]
    }
   ],
   "source": [
    "#implementing different traversal algorithms given a binary tree. in order, pre order, post \n",
    "#order, performing each traversal recursively\n",
    "class TreeNode:\n",
    "    def __init__(self,value):\n",
    "        self.val=value\n",
    "        self.left=None\n",
    "        self.right=None\n",
    "\n",
    "def inorder_traversal(root):\n",
    "    if root:\n",
    "        inorder_traversal(root.left)\n",
    "        print(root.val, end=\"\")\n",
    "        inorder_traversal(root.right)\n",
    "\n",
    "def preorder_traversal(root):\n",
    "    if root:\n",
    "        print(root.val, end=\"\")\n",
    "        preorder_traversal(root.left)\n",
    "        preorder_traversal(root.right)\n",
    "\n",
    "def postorder_traversal(root):\n",
    "    if root:\n",
    "        postorder_traversal(root.left)\n",
    "        postorder_traversal(root.right)\n",
    "        print(root.val, end=\"\")\n",
    "\n",
    "root=TreeNode(1)\n",
    "root.left=TreeNode(2)\n",
    "root.right=TreeNode(3)\n",
    "root.left.left=TreeNode(4)\n",
    "root.left.right=TreeNode(5)\n",
    "\n",
    "print(\"\\ninorder traversal:\", end=\" \") \n",
    "inorder_traversal(root)\n",
    "print(\"\\npreorder_traversal:\",end=\" \") \n",
    "preorder_traversal(root)\n",
    "print(\"\\npostorder_traversal:\", end=\" \")\n",
    "postorder_traversal(root)\n"
   ]
  },
  {
   "cell_type": "code",
   "execution_count": 6,
   "metadata": {},
   "outputs": [
    {
     "name": "stdout",
     "output_type": "stream",
     "text": [
      "expression1 is  False\n",
      "expression2 is True\n"
     ]
    }
   ],
   "source": [
    "#using a stack to check if a string of parentheses is balanced.\n",
    "class Stack:\n",
    "    def __init__(self):\n",
    "        self.items=[]\n",
    "    \n",
    "    def is_Empty(self):\n",
    "        return len(self.items)==0\n",
    "    def push(self,item):\n",
    "        self.items.append(item)\n",
    "    def pop(self):\n",
    "        if not self.is_Empty():\n",
    "            return self.items.pop()\n",
    "        else:\n",
    "            return None\n",
    "    def peek(self):\n",
    "        if not self.is_Empty():\n",
    "            return self.items[-1]\n",
    "        else:\n",
    "            return None\n",
    "def is_balanced_brackets(expression):\n",
    "    stack=Stack()\n",
    "    for char in expression:\n",
    "        if char=='(':\n",
    "            stack.push(char)\n",
    "        elif char==')':\n",
    "            if stack.is_Empty():\n",
    "                return False\n",
    "            stack.pop()\n",
    "    return stack.is_Empty()\n",
    "\n",
    "expression1=input(\"Please enter any number of brackets\")\n",
    "expression2=input(\"Please enter any number of brackets\")\n",
    "print(\"expression1 is \", is_balanced_brackets(expression1))\n",
    "print(\"expression2 is\", is_balanced_brackets(expression2))\n",
    "\n"
   ]
  },
  {
   "cell_type": "code",
   "execution_count": 7,
   "metadata": {},
   "outputs": [
    {
     "name": "stdout",
     "output_type": "stream",
     "text": [
      "Worker 1 is processing task: Task1\n",
      "Worker 2 is processing task: Task2\n",
      "Worker 3 is processing task: Task3\n",
      "Worker 1 is processing task: Task4\n",
      "Worker 2 is processing task: Task5\n"
     ]
    }
   ],
   "source": [
    "#using a queue to implement a basic task scheduler\n",
    "class Queue:\n",
    "    def __init__(self):\n",
    "        self.items = []\n",
    "\n",
    "    def is_empty(self):\n",
    "        return len(self.items) == 0\n",
    "\n",
    "    def enqueue(self, item):\n",
    "        self.items.append(item)\n",
    "\n",
    "    def dequeue(self):\n",
    "        if not self.is_empty():\n",
    "            return self.items.pop(0)\n",
    "        else:\n",
    "            return None\n",
    "\n",
    "    def peek(self):\n",
    "        if not self.is_empty():\n",
    "            return self.items[0]\n",
    "        else:\n",
    "            return None\n",
    "\n",
    "def task_scheduler(tasks, num_workers):\n",
    "    queue = Queue()\n",
    "    for task in tasks:\n",
    "        queue.enqueue(task)\n",
    "\n",
    "    while not queue.is_empty():\n",
    "        for i in range(num_workers):\n",
    "            if not queue.is_empty():\n",
    "                print(\"Worker\", i+1, \"is processing task:\", queue.dequeue())\n",
    "\n",
    "# Example usage:\n",
    "tasks = [\"Task1\", \"Task2\", \"Task3\", \"Task4\", \"Task5\"]\n",
    "num_workers = 3\n",
    "\n",
    "task_scheduler(tasks, num_workers)\n"
   ]
  }
 ],
 "metadata": {
  "kernelspec": {
   "display_name": "Python 3",
   "language": "python",
   "name": "python3"
  },
  "language_info": {
   "codemirror_mode": {
    "name": "ipython",
    "version": 3
   },
   "file_extension": ".py",
   "mimetype": "text/x-python",
   "name": "python",
   "nbconvert_exporter": "python",
   "pygments_lexer": "ipython3",
   "version": "3.11.9"
  }
 },
 "nbformat": 4,
 "nbformat_minor": 2
}
