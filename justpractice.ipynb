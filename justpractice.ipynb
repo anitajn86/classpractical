{
 "cells": [
  {
   "cell_type": "code",
   "execution_count": 1,
   "metadata": {},
   "outputs": [
    {
     "name": "stdout",
     "output_type": "stream",
     "text": [
      "\n",
      "inorder traversal: 42513\n",
      "preorder_traversal: 12453\n",
      "postorder_traversal: 45231"
     ]
    }
   ],
   "source": [
    "#implementing different traversal algorithms given a binary tree. in order, pre order, post \n",
    "#order, performing each traversal recursively\n",
    "class TreeNode:\n",
    "    def __init__(self,value):\n",
    "        self.val=value\n",
    "        self.left=None\n",
    "        self.right=None\n",
    "\n",
    "def inorder_traversal(root):\n",
    "    if root:\n",
    "        inorder_traversal(root.left)\n",
    "        print(root.val, end=\"\")\n",
    "        inorder_traversal(root.right)\n",
    "\n",
    "def preorder_traversal(root):\n",
    "    if root:\n",
    "        print(root.val, end=\"\")\n",
    "        preorder_traversal(root.left)\n",
    "        preorder_traversal(root.right)\n",
    "\n",
    "def postorder_traversal(root):\n",
    "    if root:\n",
    "        postorder_traversal(root.left)\n",
    "        postorder_traversal(root.right)\n",
    "        print(root.val, end=\"\")\n",
    "\n",
    "root=TreeNode(1)\n",
    "root.left=TreeNode(2)\n",
    "root.right=TreeNode(3)\n",
    "root.left.left=TreeNode(4)\n",
    "root.left.right=TreeNode(5)\n",
    "\n",
    "print(\"\\ninorder traversal:\", end=\" \") \n",
    "inorder_traversal(root)\n",
    "print(\"\\npreorder_traversal:\",end=\" \") \n",
    "preorder_traversal(root)\n",
    "print(\"\\npostorder_traversal:\", end=\" \")\n",
    "postorder_traversal(root)\n"
   ]
  }
 ],
 "metadata": {
  "kernelspec": {
   "display_name": "Python 3",
   "language": "python",
   "name": "python3"
  },
  "language_info": {
   "codemirror_mode": {
    "name": "ipython",
    "version": 3
   },
   "file_extension": ".py",
   "mimetype": "text/x-python",
   "name": "python",
   "nbconvert_exporter": "python",
   "pygments_lexer": "ipython3",
   "version": "3.11.8"
  }
 },
 "nbformat": 4,
 "nbformat_minor": 2
}
