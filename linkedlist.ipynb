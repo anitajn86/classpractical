{
 "cells": [
  {
   "cell_type": "code",
   "execution_count": null,
   "metadata": {},
   "outputs": [],
   "source": [
    "\n",
    "class Node:\n",
    "    def __init__(self, data):\n",
    "        self.data=data\n",
    "        self.next=None\n",
    "\n",
    "node1=Node(3)\n",
    "node2=Node(5)\n",
    "node3=Node(13)\n",
    "node4=Node(2)\n",
    "\n",
    "node1.next=node2\n",
    "node2.next=node3\n",
    "node3.next=node4\n",
    "\n",
    "currentNode=node1\n",
    "while currentNode:\n",
    "    print(currentNode.data,end=\"->\")\n",
    "    currentNode=currentNode.next\n",
    "print(\"null\")\n",
    "\n"
   ]
  },
  {
   "cell_type": "code",
   "execution_count": null,
   "metadata": {},
   "outputs": [],
   "source": [
    "print(\"Learning linked lists\")\n",
    "print(\"hello, how are you today\")\n",
    "print(\"Even though you're not learning anything,\\n atleast you're consistent with the commits\")\n"
   ]
  },
  {
   "cell_type": "code",
   "execution_count": 3,
   "metadata": {},
   "outputs": [
    {
     "ename": "NameError",
     "evalue": "name 'Student' is not defined",
     "output_type": "error",
     "traceback": [
      "\u001b[1;31m---------------------------------------------------------------------------\u001b[0m",
      "\u001b[1;31mNameError\u001b[0m                                 Traceback (most recent call last)",
      "Cell \u001b[1;32mIn[3], line 1\u001b[0m\n\u001b[1;32m----> 1\u001b[0m \u001b[38;5;28;43;01mclass\u001b[39;49;00m\u001b[43m \u001b[49m\u001b[38;5;21;43;01mStudent\u001b[39;49;00m\u001b[43m:\u001b[49m\n\u001b[0;32m      2\u001b[0m \u001b[43m    \u001b[49m\u001b[38;5;28;43;01mdef\u001b[39;49;00m\u001b[43m \u001b[49m\u001b[38;5;21;43m__init__\u001b[39;49m\u001b[43m(\u001b[49m\u001b[38;5;28;43mself\u001b[39;49m\u001b[43m,\u001b[49m\u001b[43mname\u001b[49m\u001b[43m,\u001b[49m\u001b[43mage\u001b[49m\u001b[43m,\u001b[49m\u001b[43mgrade\u001b[49m\u001b[43m)\u001b[49m\u001b[43m:\u001b[49m\n\u001b[0;32m      3\u001b[0m \u001b[43m        \u001b[49m\u001b[38;5;28;43mself\u001b[39;49m\u001b[38;5;241;43m.\u001b[39;49m\u001b[43mStudentName\u001b[49m\u001b[38;5;241;43m=\u001b[39;49m\u001b[43mname\u001b[49m\n",
      "Cell \u001b[1;32mIn[3], line 15\u001b[0m, in \u001b[0;36mStudent\u001b[1;34m()\u001b[0m\n\u001b[0;32m     12\u001b[0m     marks\u001b[38;5;241m=\u001b[39m\u001b[38;5;28mint\u001b[39m(\u001b[38;5;28minput\u001b[39m())\n\u001b[0;32m     13\u001b[0m     \u001b[38;5;28mprint\u001b[39m(\u001b[38;5;124mf\u001b[39m\u001b[38;5;124m\"\u001b[39m\u001b[38;5;124mStudent \u001b[39m\u001b[38;5;132;01m{\u001b[39;00m\u001b[38;5;28mself\u001b[39m\u001b[38;5;241m.\u001b[39mStudentName\u001b[38;5;132;01m}\u001b[39;00m\u001b[38;5;124m has a total of \u001b[39m\u001b[38;5;132;01m{\u001b[39;00mmarks\u001b[38;5;132;01m}\u001b[39;00m\u001b[38;5;124m\"\u001b[39m)\n\u001b[1;32m---> 15\u001b[0m Anita\u001b[38;5;241m=\u001b[39m\u001b[43mStudent\u001b[49m(\u001b[38;5;124m\"\u001b[39m\u001b[38;5;124mAnita\u001b[39m\u001b[38;5;124m\"\u001b[39m,\u001b[38;5;241m20\u001b[39m,\u001b[38;5;241m56\u001b[39m)\n\u001b[0;32m     16\u001b[0m \u001b[38;5;66;03m#Anita=University(\"UCU\")\u001b[39;00m\n\u001b[0;32m     17\u001b[0m \u001b[38;5;28mprint\u001b[39m(Anita)\n",
      "\u001b[1;31mNameError\u001b[0m: name 'Student' is not defined"
     ]
    }
   ],
   "source": [
    "class Student:\n",
    "    def __init__(self,name,age,grade):\n",
    "        self.StudentName=name\n",
    "        self.StudentAge=age\n",
    "        self.StudentGrade=grade\n",
    "        \n",
    "    def University(self,UniversityName):\n",
    "        print(f\"Student {self.StudentName} is {self.StudentAge} years and studies at {UniversityName}\")\n",
    "    \n",
    "    def Grades(self):\n",
    "        print(\"Please enter your grade\")\n",
    "        marks=int(input())\n",
    "        print(f\"Student {self.StudentName} has a total of {marks}\")\n",
    "\n",
    "    Anita=Student(\"Anita\",20,56)\n",
    "    #Anita=University(\"UCU\")\n",
    "    print(Anita)\n",
    "\n"
   ]
  }
 ],
 "metadata": {
  "kernelspec": {
   "display_name": "Python 3",
   "language": "python",
   "name": "python3"
  },
  "language_info": {
   "codemirror_mode": {
    "name": "ipython",
    "version": 3
   },
   "file_extension": ".py",
   "mimetype": "text/x-python",
   "name": "python",
   "nbconvert_exporter": "python",
   "pygments_lexer": "ipython3",
   "version": "3.11.8"
  }
 },
 "nbformat": 4,
 "nbformat_minor": 2
}
