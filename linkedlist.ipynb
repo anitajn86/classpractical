{
 "cells": [
  {
   "cell_type": "code",
   "execution_count": null,
   "metadata": {},
   "outputs": [],
   "source": [
    "\n",
    "class Node:\n",
    "    def __init__(self, data):\n",
    "        self.data=data\n",
    "        self.next=None\n",
    "\n",
    "node1=Node(3)\n",
    "node2=Node(5)\n",
    "node3=Node(13)\n",
    "node4=Node(2)\n",
    "\n",
    "node1.next=node2\n",
    "node2.next=node3\n",
    "node3.next=node4\n",
    "\n",
    "currentNode=node1\n",
    "while currentNode:\n",
    "    print(currentNode.data,end=\"->\")\n",
    "    currentNode=currentNode.next\n",
    "print(\"null\")\n",
    "\n"
   ]
  },
  {
   "cell_type": "code",
   "execution_count": null,
   "metadata": {},
   "outputs": [],
   "source": [
    "print(\"Learning linked lists\")\n",
    "print(\"hello, how are you today\")\n",
    "print(\"Even though you're not learning anything,\\n atleast you're consistent with the commits\")\n"
   ]
  },
  {
   "cell_type": "code",
   "execution_count": null,
   "metadata": {},
   "outputs": [],
   "source": [
    "class Student:\n",
    "    def __init__(self,name,age,grade):\n",
    "        self.StudentName=name\n",
    "        self.StudentAge=age\n",
    "        self.StudentGrade=grade\n",
    "        \n",
    "    def University(self,UniversityName):\n",
    "        print(f\"Student {self.StudentName} is {self.StudentAge} years and studies at {UniversityName}\")\n",
    "    \n",
    "    def Grades(self):\n",
    "        print(\"Please enter your grade\")\n",
    "        marks=int(input())\n",
    "        print(f\"Student {self.StudentName} has a total of {marks}\")\n",
    "\n",
    "    Anita=Student(\"Anita\",20,56)\n",
    "    #Anita=University(\"UCU\")\n",
    "    print(Anita)\n",
    "\n"
   ]
  },
  {
   "cell_type": "code",
   "execution_count": 1,
   "metadata": {},
   "outputs": [
    {
     "name": "stdout",
     "output_type": "stream",
     "text": [
      "Why isn't this code running?\n",
      "I have to learn data structures\n"
     ]
    }
   ],
   "source": [
    "print(\"Why isn't this code running?\")\n",
    "print(\"I have to learn data structures\")\n",
    "print(\"The learning process is a hard one but we shall get there.\")"
   ]
  }
 ],
 "metadata": {
  "kernelspec": {
   "display_name": "Python 3",
   "language": "python",
   "name": "python3"
  },
  "language_info": {
   "codemirror_mode": {
    "name": "ipython",
    "version": 3
   },
   "file_extension": ".py",
   "mimetype": "text/x-python",
   "name": "python",
   "nbconvert_exporter": "python",
   "pygments_lexer": "ipython3",
   "version": "3.11.8"
  }
 },
 "nbformat": 4,
 "nbformat_minor": 2
}
