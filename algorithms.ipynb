{
 "cells": [
  {
   "cell_type": "code",
   "execution_count": 2,
   "metadata": {},
   "outputs": [
    {
     "data": {
      "text/plain": [
       "20"
      ]
     },
     "execution_count": 2,
     "metadata": {},
     "output_type": "execute_result"
    }
   ],
   "source": [
    "#searching. finding maximum element in the array\n",
    "def findMax_element(nums):\n",
    "    max_element=float('-inf')\n",
    "\n",
    "    for num in nums:\n",
    "        if num>max_element:\n",
    "            max_element=num\n",
    "    return max_element\n",
    "\n",
    "nums=[10,20,15,16,17,4,2,5]\n",
    "findMax_element(nums)\n",
    "\n",
    "\n",
    "\n",
    "\n"
   ]
  },
  {
   "cell_type": "code",
   "execution_count": null,
   "metadata": {},
   "outputs": [],
   "source": [
    "#bubble sort\n",
    "def bubble_sort(nums):\n",
    "    n=len(nums)\n",
    "    for i in range(n):\n",
    "        for j in range(n-i-1):\n",
    "            if nums[j]>nums[j+1]:\n",
    "                nums[j],nums[j+1]=nums[j+1],nums[j]\n",
    "\n",
    "nums=[4,6,7,9,10,24,13,2,3,4,]\n",
    "bubble_sort(nums)\n",
    "print(\"Sorted array\",nums)\n",
    "        "
   ]
  },
  {
   "cell_type": "code",
   "execution_count": 6,
   "metadata": {},
   "outputs": [
    {
     "name": "stdout",
     "output_type": "stream",
     "text": [
      "This is the sorted array [12, 11, 10, 13, 14, 15]\n"
     ]
    }
   ],
   "source": [
    "#selection sort\n",
    "def selection_sort(arr):\n",
    "    n=len(arr)\n",
    "    for i in range(n):\n",
    "        minIndex=i\n",
    "        for j in range(i+1,n):\n",
    "            if arr[j]<arr[minIndex]:\n",
    "                minIndex=j\n",
    "                arr[i],arr[minIndex]=arr[minIndex],arr[i]\n",
    "    return arr\n",
    "\n",
    "\n",
    "arr=[13,10,15,14,12,11]\n",
    "#arr_list=[float(num) for num in arr.split()] #converts a string of input numbers into a list\n",
    "sorted_array=selection_sort(arr)\n",
    "print(\"This is the sorted array\", sorted_array)"
   ]
  },
  {
   "cell_type": "code",
   "execution_count": 3,
   "metadata": {},
   "outputs": [
    {
     "name": "stdout",
     "output_type": "stream",
     "text": [
      "[0, 2, 8, 4, 6, 3, 7, 5, 1]\n",
      "[0, 1, 8, 4, 6, 3, 7, 5, 2]\n",
      "[0, 1, 2, 4, 6, 3, 7, 5, 8]\n",
      "[0, 1, 2, 3, 6, 4, 7, 5, 8]\n",
      "[0, 1, 2, 3, 4, 6, 7, 5, 8]\n",
      "[0, 1, 2, 3, 4, 5, 7, 6, 8]\n",
      "[0, 1, 2, 3, 4, 5, 6, 7, 8]\n",
      "[0, 1, 2, 3, 4, 5, 6, 7, 8]\n",
      "None\n"
     ]
    }
   ],
   "source": [
    "def mysterySort(lst):\n",
    "    for i in range(len(lst)-1):\n",
    "        k=i\n",
    "        for j in range(i,len(lst)):\n",
    "            if lst[j]<lst[k]:\n",
    "                k=j\n",
    "        lst[i],lst[k]=lst[k],lst[i]\n",
    "        print(lst)\n",
    "\n",
    "lst=[3,2,8,4,6,0,7,5,1]\n",
    "sortedlist=mysterySort(lst)\n",
    "print(sortedlist)"
   ]
  },
  {
   "cell_type": "code",
   "execution_count": 5,
   "metadata": {},
   "outputs": [
    {
     "name": "stdout",
     "output_type": "stream",
     "text": [
      "This is the sorted array [11, 12, 22, 25, 64]\n"
     ]
    }
   ],
   "source": [
    "#insertion sort\n",
    "def insertion_sort(arr):\n",
    "    n=len(arr)\n",
    "    for i in range(1,n):\n",
    "        key=arr[i]\n",
    "        j=i-1\n",
    "        while j>=0 and arr[j]>key:\n",
    "            arr[j+1]=arr[j]\n",
    "            j-=1\n",
    "        arr[j+1]=key\n",
    "    return arr\n",
    "\n",
    "arr=[64,25,12,22,11]\n",
    "sorted_array=insertion_sort(arr)\n",
    "print(\"This is the sorted array\", sorted_array)\n"
   ]
  },
  {
   "cell_type": "code",
   "execution_count": null,
   "metadata": {},
   "outputs": [],
   "source": [
    "#quick sort\n",
    "def quick_sort(arr):\n",
    "    if len(arr) <= 1:\n",
    "        return arr\n",
    "    else:\n",
    "        pivot = arr[0]\n",
    "        less_than_pivot = [x for x in arr[1:] if x <= pivot]\n",
    "        greater_than_pivot = [x for x in arr[1:] if x > pivot]\n",
    "        return quick_sort(less_than_pivot) + [pivot] + quick_sort(greater_than_pivot)\n",
    "\n",
    "# Example usage:\n",
    "arr = [3, 6, 8, 10, 1, 2, 1]\n",
    "sorted_arr = quick_sort(arr)\n",
    "print(sorted_arr)\n",
    "\n",
    "print(\"I didn't really understand these things but ok. \")\n"
   ]
  },
  {
   "cell_type": "code",
   "execution_count": 4,
   "metadata": {},
   "outputs": [
    {
     "name": "stdout",
     "output_type": "stream",
     "text": [
      "23\n"
     ]
    }
   ],
   "source": [
    "lst=[14,8,-23,4,6,10,-18,5,5,11]\n",
    "maxSum=lst[0]\n",
    "for i in range(0,len(lst)):\n",
    "    sumz=0\n",
    "    for j in range(i,len(lst)):\n",
    "        sumz+=lst[j]\n",
    "        if sumz>maxSum:\n",
    "            maxSum=sumz\n",
    "\n",
    "print(maxSum)\n"
   ]
  }
 ],
 "metadata": {
  "kernelspec": {
   "display_name": "Python 3",
   "language": "python",
   "name": "python3"
  },
  "language_info": {
   "codemirror_mode": {
    "name": "ipython",
    "version": 3
   },
   "file_extension": ".py",
   "mimetype": "text/x-python",
   "name": "python",
   "nbconvert_exporter": "python",
   "pygments_lexer": "ipython3",
   "version": "3.11.9"
  }
 },
 "nbformat": 4,
 "nbformat_minor": 2
}
