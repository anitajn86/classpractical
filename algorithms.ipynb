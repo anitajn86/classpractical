{
 "cells": [
  {
   "cell_type": "code",
   "execution_count": null,
   "metadata": {},
   "outputs": [],
   "source": [
    "#searching. finding maximum element in the array\n",
    "def findMax_element(nums):\n",
    "    max_element=float('-inf')\n",
    "\n",
    "    for num in nums:\n",
    "        if num>max_element:\n",
    "            max_element=num\n",
    "    return max_element\n",
    "\n",
    "nums = input(\"Type some numbers here, separated by spaces: \")\n",
    "nums_list = [float(num) for num in nums.split()]  # Convert input string to list of numbers\n",
    "print(\"The maximum element is\", findMax_element(nums_list))\n",
    "\n"
   ]
  },
  {
   "cell_type": "code",
   "execution_count": 15,
   "metadata": {},
   "outputs": [
    {
     "name": "stdout",
     "output_type": "stream",
     "text": [
      "Sorted array [2, 3, 4, 4, 6, 7, 9, 10, 13, 24]\n"
     ]
    }
   ],
   "source": [
    "#bubble sort\n",
    "def bubble_sort(nums):\n",
    "    n=len(nums)\n",
    "    for i in range(n):\n",
    "        for j in range(n-i-1):\n",
    "            if nums[j]>nums[j+1]:\n",
    "                nums[j],nums[j+1]=nums[j+1],nums[j]\n",
    "\n",
    "nums=[4,6,7,9,10,24,13,2,3,4,]\n",
    "bubble_sort(nums)\n",
    "print(\"Sorted array\",nums)\n",
    "        "
   ]
  },
  {
   "cell_type": "code",
   "execution_count": 14,
   "metadata": {},
   "outputs": [
    {
     "name": "stdout",
     "output_type": "stream",
     "text": [
      "This is the sorted array [9, 10, 11, 12, 21, 14, 24, 24, 34]\n"
     ]
    }
   ],
   "source": [
    "#selection sort\n",
    "def selection_sort(arr):\n",
    "    n=len(arr)\n",
    "    for i in range(n):\n",
    "        minIndex=i\n",
    "        for j in range(i+1,n):\n",
    "            if arr[j]<arr[minIndex]:\n",
    "                minIndex=j\n",
    "                arr[i],arr[minIndex]=arr[minIndex],arr[i]\n",
    "    return arr\n",
    "\n",
    "arr=['a','g','h','f','b','c']\n",
    "arr=[24,24,34,14,12,11,10,9,21]\n",
    "#arr_list=[float(num) for num in arr.split()] #converts a string of input numbers into a list\n",
    "sorted_array=selection_sort(arr)\n",
    "print(\"This is the sorted array\", sorted_array)"
   ]
  },
  {
   "cell_type": "code",
   "execution_count": 16,
   "metadata": {},
   "outputs": [
    {
     "name": "stdout",
     "output_type": "stream",
     "text": [
      "This is the sorted array [11, 12, 22, 25, 64]\n"
     ]
    }
   ],
   "source": [
    "#insertion sort\n",
    "def insertion_sort(arr):\n",
    "    n=len(arr)\n",
    "    for i in range(1,n):\n",
    "        key=arr[i]\n",
    "        j=i-1\n",
    "        while j>=0 and arr[j]>key:\n",
    "            arr[j+1]=arr[j]\n",
    "            j-=1\n",
    "        arr[j+1]=key\n",
    "    return arr\n",
    "\n",
    "arr=[64,25,12,22,11]\n",
    "sorted_array=insertion_sort(arr)\n",
    "print(\"This is the sorted array\", sorted_array)\n"
   ]
  },
  {
   "cell_type": "code",
   "execution_count": null,
   "metadata": {},
   "outputs": [],
   "source": [
    "#quick sort\n"
   ]
  }
 ],
 "metadata": {
  "kernelspec": {
   "display_name": "Python 3",
   "language": "python",
   "name": "python3"
  },
  "language_info": {
   "codemirror_mode": {
    "name": "ipython",
    "version": 3
   },
   "file_extension": ".py",
   "mimetype": "text/x-python",
   "name": "python",
   "nbconvert_exporter": "python",
   "pygments_lexer": "ipython3",
   "version": "3.11.8"
  }
 },
 "nbformat": 4,
 "nbformat_minor": 2
}
