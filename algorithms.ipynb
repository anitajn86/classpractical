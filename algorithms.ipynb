{
 "cells": [
  {
   "cell_type": "code",
   "execution_count": 3,
   "metadata": {},
   "outputs": [
    {
     "name": "stdout",
     "output_type": "stream",
     "text": [
      "The maximum element is 78.0\n"
     ]
    }
   ],
   "source": [
    "#searching. finding maximum element in the array\n",
    "def findMax_element(nums):\n",
    "    max_element=float('-inf')\n",
    "\n",
    "    for num in nums:\n",
    "        if num>max_element:\n",
    "            max_element=num\n",
    "    return max_element\n",
    "\n",
    "nums = input(\"Type some numbers here, separated by spaces: \")\n",
    "nums_list = [float(num) for num in nums.split()]  # Convert input string to list of numbers\n",
    "print(\"The maximum element is\", findMax_element(nums_list))\n",
    "\n"
   ]
  },
  {
   "cell_type": "code",
   "execution_count": 1,
   "metadata": {},
   "outputs": [
    {
     "name": "stdout",
     "output_type": "stream",
     "text": [
      "Sorted array [2, 3, 4, 4, 6, 7, 9, 10, 13, 24]\n"
     ]
    }
   ],
   "source": [
    "#bubble sort\n",
    "def bubble_sort(nums):\n",
    "    n=len(nums)\n",
    "    for i in range(n):\n",
    "        for j in range(n-i-1):\n",
    "            if nums[j]>nums[j+1]:\n",
    "                nums[j],nums[j+1]=nums[j+1],nums[j]\n",
    "\n",
    "nums=[4,6,7,9,10,24,13,2,3,4,]\n",
    "bubble_sort(nums)\n",
    "print(\"Sorted array\",nums)\n",
    "        "
   ]
  }
 ],
 "metadata": {
  "kernelspec": {
   "display_name": "Python 3",
   "language": "python",
   "name": "python3"
  },
  "language_info": {
   "codemirror_mode": {
    "name": "ipython",
    "version": 3
   },
   "file_extension": ".py",
   "mimetype": "text/x-python",
   "name": "python",
   "nbconvert_exporter": "python",
   "pygments_lexer": "ipython3",
   "version": "3.11.8"
  }
 },
 "nbformat": 4,
 "nbformat_minor": 2
}
